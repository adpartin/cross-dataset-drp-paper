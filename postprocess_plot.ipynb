{
 "cells": [
  {
   "cell_type": "code",
   "execution_count": 1,
   "metadata": {},
   "outputs": [
    {
     "name": "stdout",
     "output_type": "stream",
     "text": [
      "/nfs/lambda_stor_01/data/apartin/projects/IMPROVE/pan-models/csa_postproc_all\n"
     ]
    }
   ],
   "source": [
    "import json\n",
    "import os\n",
    "import warnings\n",
    "from pathlib import Path\n",
    "\n",
    "from pprint import pprint\n",
    "import numpy as np\n",
    "import pandas as pd\n",
    "import seaborn as sns\n",
    "import matplotlib.pyplot as plt\n",
    "\n",
    "# filepath = Path(__file__).parent\n",
    "filepath = Path(os.path.abspath(''))\n",
    "print(filepath)\n",
    "\n",
    "canc_col_name = \"improve_sample_id\"\n",
    "drug_col_name = \"improve_chem_id\""
   ]
  },
  {
   "cell_type": "code",
   "execution_count": 2,
   "metadata": {},
   "outputs": [
    {
     "data": {
      "text/plain": [
       "PosixPath('/nfs/lambda_stor_01/data/apartin/projects/IMPROVE/pan-models/csa_postproc_all/models/GraphDRP')"
      ]
     },
     "execution_count": 2,
     "metadata": {},
     "output_type": "execute_result"
    }
   ],
   "source": [
    "main_models_path = filepath / 'models'  # dir containing the collection of models\n",
    "models_paths_list  = sorted(main_models_path.glob('*'))  # list of paths to the models\n",
    "models_paths_list[1]"
   ]
  },
  {
   "cell_type": "code",
   "execution_count": null,
   "metadata": {},
   "outputs": [],
   "source": []
  },
  {
   "cell_type": "code",
   "execution_count": 6,
   "metadata": {},
   "outputs": [
    {
     "name": "stdout",
     "output_type": "stream",
     "text": [
      "/nfs/lambda_stor_01/data/apartin/projects/IMPROVE/pan-models/csa_postproc_all/models/DeepCDR/postproc.csa.DeepCDR.improve_output\n",
      "/nfs/lambda_stor_01/data/apartin/projects/IMPROVE/pan-models/csa_postproc_all/models/GraphDRP/postproc.csa.GraphDRP.improve_output\n",
      "/nfs/lambda_stor_01/data/apartin/projects/IMPROVE/pan-models/csa_postproc_all/models/tCNNS/postproc.csa.tCNNS.improve_output\n",
      "(1100, 9)\n",
      "hours          5\n",
      "minutes       44\n",
      "seconds     1100\n",
      "src            5\n",
      "trg            5\n",
      "split         10\n",
      "tot_mins      66\n",
      "model          2\n",
      "stage          3\n",
      "dtype: int64\n",
      "   hours  minutes    seconds   src   trg  split  tot_mins    model       stage\n",
      "0      0        2  33.573939  CCLE  CCLE      0         2  DeepCDR  preprocess\n",
      "1      0        2  32.301698  CCLE  CCLE      1         2  DeepCDR  preprocess\n",
      "2      0        2  34.182968  CCLE  CCLE      2         2  DeepCDR  preprocess\n",
      "3      0        2  34.474254  CCLE  CCLE      3         2  DeepCDR  preprocess\n"
     ]
    },
    {
     "name": "stderr",
     "output_type": "stream",
     "text": [
      "/homes/apartin/miniconda3/envs/graphdrp_py37_improve/lib/python3.7/site-packages/ipykernel_launcher.py:17: UserWarning: File not found! /nfs/lambda_stor_01/data/apartin/projects/IMPROVE/pan-models/csa_postproc_all/models/tCNNS/postproc.csa.tCNNS.improve_output\n",
      "  app.launch_new_instance()\n"
     ]
    }
   ],
   "source": [
    "# Aggregate runtimes from all models\n",
    "\n",
    "res_fname = 'runtimes.csv'\n",
    "out_fname = 'all_models_' + res_fname\n",
    "\n",
    "agg_df_list = []\n",
    "missing_files = []\n",
    "\n",
    "for model_dir in models_paths_list:\n",
    "    model_name = model_dir.name\n",
    "    pp_res_path = model_dir / f\"postproc.csa.{model_name}.improve_output\"\n",
    "    print(pp_res_path)\n",
    "    try:\n",
    "        rr = pd.read_csv(pp_res_path / res_fname, sep=',')\n",
    "        agg_df_list.append(rr)\n",
    "    except FileNotFoundError:\n",
    "        warnings.warn(f\"File not found! {pp_res_path}\", UserWarning)\n",
    "        missing_files.append(pp_res_path)\n",
    "\n",
    "df = pd.concat(agg_df_list, axis=0)\n",
    "df.to_csv(filepath / out_fname, index=False)\n",
    "pprint(df.shape)\n",
    "pprint(df.nunique())\n",
    "pprint(df[:4])"
   ]
  },
  {
   "cell_type": "code",
   "execution_count": null,
   "metadata": {},
   "outputs": [],
   "source": []
  },
  {
   "cell_type": "code",
   "execution_count": 7,
   "metadata": {},
   "outputs": [
    {
     "name": "stdout",
     "output_type": "stream",
     "text": [
      "/nfs/lambda_stor_01/data/apartin/projects/IMPROVE/pan-models/csa_postproc_all/models/DeepCDR/postproc.csa.DeepCDR.improve_output\n",
      "/nfs/lambda_stor_01/data/apartin/projects/IMPROVE/pan-models/csa_postproc_all/models/GraphDRP/postproc.csa.GraphDRP.improve_output\n",
      "/nfs/lambda_stor_01/data/apartin/projects/IMPROVE/pan-models/csa_postproc_all/models/tCNNS/postproc.csa.tCNNS.improve_output\n",
      "(3750, 6)\n",
      "met         5\n",
      "split      10\n",
      "value    3750\n",
      "src         5\n",
      "trg         5\n",
      "model       3\n",
      "dtype: int64\n",
      "   met  split     value   src   trg    model\n",
      "0  mse      0  0.006245  CCLE  CCLE  DeepCDR\n",
      "1  mse      1  0.006012  CCLE  CCLE  DeepCDR\n",
      "2  mse      2  0.006210  CCLE  CCLE  DeepCDR\n",
      "3  mse      3  0.005937  CCLE  CCLE  DeepCDR\n"
     ]
    }
   ],
   "source": [
    "# Aggregate scores from all models\n",
    "\n",
    "res_fname = 'all_scores.csv'\n",
    "out_fname = 'all_models_' + res_fname\n",
    "\n",
    "agg_df_list = []\n",
    "missing_files = []\n",
    "\n",
    "for model_dir in models_paths_list:\n",
    "    model_name = model_dir.name\n",
    "    pp_res_path = model_dir / f\"postproc.csa.{model_name}.improve_output\"\n",
    "    print(pp_res_path)\n",
    "    try:\n",
    "        rr = pd.read_csv(pp_res_path / res_fname, sep=',')\n",
    "        agg_df_list.append(rr)\n",
    "    except FileNotFoundError:\n",
    "        warnings.warn(f\"File not found! {pp_res_path}\", UserWarning)\n",
    "        missing_files.append(pp_res_path)\n",
    "\n",
    "df = pd.concat(agg_df_list, axis=0)\n",
    "df.to_csv(filepath / out_fname, index=False)\n",
    "pprint(df.shape)\n",
    "pprint(df.nunique())\n",
    "pprint(df[:4])"
   ]
  },
  {
   "cell_type": "code",
   "execution_count": null,
   "metadata": {},
   "outputs": [],
   "source": []
  },
  {
   "cell_type": "code",
   "execution_count": null,
   "metadata": {},
   "outputs": [],
   "source": []
  },
  {
   "cell_type": "markdown",
   "metadata": {},
   "source": [
    "## Plot"
   ]
  },
  {
   "cell_type": "code",
   "execution_count": 2,
   "metadata": {},
   "outputs": [],
   "source": [
    "def gen_plot(df: pd.DataFrame, fpath: str, tr_data: str, errorbar: bool=False, show: bool=False):\n",
    "    \"\"\" ... \"\"\"\n",
    "    if errorbar:\n",
    "        df_pivot = df.pivot(index='drug_name', columns=canc_col_name, values=['pred_mean', 'pred_std'])\n",
    "    else:\n",
    "        df_pivot = df.pivot(index='drug_name', columns=canc_col_name, values=['pred_mean'])\n",
    "\n",
    "    # df_pivot = df_pivot.sort_values(('pred_mean', '655913~031-T'))\n",
    "    random_pdo = df['improve_sample_id'].unique()[0]\n",
    "    df_pivot = df_pivot.sort_values(('pred_mean', random_pdo))\n",
    "    \n",
    "    # Plotting\n",
    "    fig, ax = plt.subplots(figsize=(14, 8))\n",
    "\n",
    "    # Get the number of drugs and cells\n",
    "    drugs = df['drug_name'].unique()\n",
    "    cells = df[canc_col_name].unique()\n",
    "    bar_width = 0.4  # Width of the bars\n",
    "    index = np.arange(len(drugs))  # The label locations\n",
    "\n",
    "    # Use a color palette from seaborn\n",
    "    # colors = sns.color_palette()\n",
    "    colors = sns.color_palette(\"pastel\")\n",
    "    \n",
    "    # Plot each cell\n",
    "    for i, (cell, color) in enumerate(zip(cells, colors)):\n",
    "        pred_mean = df_pivot['pred_mean'][cell].values\n",
    "        if errorbar:\n",
    "            pred_std = df_pivot['pred_std'][cell].values\n",
    "            bars = ax.bar(index + i * bar_width, pred_mean, bar_width, yerr=pred_std,\n",
    "                          label=cell, color=color, capsize=5, ecolor='black',\n",
    "                          error_kw=dict(linestyle='--', linewidth=1))\n",
    "        else:\n",
    "            bars = ax.bar(index + i * bar_width, pred_mean, bar_width, label=cell,\n",
    "                          color=color, capsize=5, ecolor='black')\n",
    "\n",
    "        # Add annotations\n",
    "        for bar, mean in zip(bars, pred_mean):\n",
    "            yval = bar.get_height()\n",
    "            ax.text(bar.get_x() + bar.get_width()/2, yval, f'{mean:.2f}', ha='center', va='bottom')\n",
    "\n",
    "    # Add labels, title, and legend\n",
    "    ax.set_xlabel('Drug')\n",
    "    ax.set_ylabel('Predicted AUC (mean across data splits)')\n",
    "    ax.set_title(f'{model_name}: Predicted AUC by Drug and PDO (trained on {tr_data})')\n",
    "    ax.set_xticks(index + bar_width / 2)\n",
    "    ax.set_xticklabels(drugs, rotation=45)\n",
    "    ax.legend()\n",
    "    ax.grid()\n",
    "\n",
    "    ax.set_ylim(0.3, None)\n",
    "\n",
    "    plt.tight_layout()\n",
    "\n",
    "    # Save the plot to a file\n",
    "    plt.savefig(fpath, dpi=300)\n",
    "    plt.show()"
   ]
  },
  {
   "cell_type": "code",
   "execution_count": 18,
   "metadata": {},
   "outputs": [],
   "source": [
    "# # IMPROVE models\n",
    "# # improve_models_list = [\"DeepTTC\", \"GraphDRP\", \"HIDRA\", \"IGTD\", \"PaccMann_MCA\"]\n",
    "# # model_name = \"DeepTTC\"\n",
    "# # model_name = \"GraphDRP\"\n",
    "# # model_name = \"HIDRA\"\n",
    "# # model_name = \"IGTD\"\n",
    "# model_name = \"PaccMann_MCA\"\n",
    "# # -------\n",
    "# source = \"CTRPv2\"\n",
    "# target = \"PDMR\"\n",
    "\n",
    "# UNO\n",
    "model_name = \"UNO\"\n",
    "# -------\n",
    "source = \"all\"\n",
    "target = \"PDMR\"\n",
    "\n",
    "agg_df = pd.read_csv(filepath / \"plots_outdir\" / f\"agg_preds_{model_name}_{source}_{target}.tsv\", sep=\"\\t\")"
   ]
  },
  {
   "cell_type": "code",
   "execution_count": null,
   "metadata": {},
   "outputs": [],
   "source": [
    "gen_plot(df=agg_df,\n",
    "         fpath=filepath / \"plots_outdir\" / f'plot_{model_name}_{source}-{target}.png',\n",
    "         tr_data=source, errorbar=False, show=True)"
   ]
  },
  {
   "cell_type": "code",
   "execution_count": null,
   "metadata": {},
   "outputs": [],
   "source": []
  }
 ],
 "metadata": {
  "kernelspec": {
   "display_name": "drp_stats_py39",
   "language": "python",
   "name": "python3"
  },
  "language_info": {
   "codemirror_mode": {
    "name": "ipython",
    "version": 3
   },
   "file_extension": ".py",
   "mimetype": "text/x-python",
   "name": "python",
   "nbconvert_exporter": "python",
   "pygments_lexer": "ipython3",
   "version": "3.7.12"
  }
 },
 "nbformat": 4,
 "nbformat_minor": 2
}
